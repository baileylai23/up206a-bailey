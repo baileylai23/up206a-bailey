{
 "cells": [
  {
   "cell_type": "markdown",
   "id": "06ba2c33-ffaf-4127-b538-eb4c4f1dd499",
   "metadata": {},
   "source": [
    "# Week 4 Assignment: Trying Out OSMnx Isochrone Mapping\n",
    "For this assignment, I will be reloading the traffic collision data that my partner and I cleaned up and use it to try out the isochrone mapping from our last class."
   ]
  },
  {
   "cell_type": "markdown",
   "id": "18ea1e56-a566-41c5-8e2c-5d923756f6d5",
   "metadata": {},
   "source": [
    "## Part 1: Loading cleaned-up bike collision data\n",
    "The CSV for [LAPD's traffic collision data from 2010 to present](https://data.lacity.org/Public-Safety/Traffic-Collision-Data-from-2010-to-Present/d5tf-ez2w) has been filtered to only include reported traffic collisions involving bikes. For each entry with a lat,long coordinates of \"0,0\", we have manually gone in to search up lat,long coordinates based on the \"Address\" (first street) and \"Cross Street\" (second intersecting street) provided. For entries that have neither lat,long coordinates nor \"Address\" and \"Cross Street\" . We created a [Google Doc documenting the process of cleaning up each affected entry](https://docs.google.com/document/d/1Iec81ZXlTOaoUa1vZBHPScEr9pMDE6vaom-cJ_Azbgw/edit?usp=sharing).\n",
    "\n",
    "I used [a website that converts CSV files to GEOJSON](https://www.convertcsv.com/csv-to-geojson.htm). I will now load both files to test that they have been loaded properly."
   ]
  },
  {
   "cell_type": "code",
   "execution_count": 1,
   "id": "12f505e5-a034-4d8c-93e9-3a27c13c1590",
   "metadata": {},
   "outputs": [
    {
     "name": "stderr",
     "output_type": "stream",
     "text": [
      "/opt/conda/lib/python3.9/site-packages/geopandas/_compat.py:106: UserWarning: The Shapely GEOS version (3.9.1-CAPI-1.14.2) is incompatible with the GEOS version PyGEOS was compiled with (3.10.1-CAPI-1.16.0). Conversions between both will be slow.\n",
      "  warnings.warn(\n"
     ]
    }
   ],
   "source": [
    "# for spatial data\n",
    "import geopandas as gpd\n",
    "\n",
    "# for plotting\n",
    "import matplotlib.pyplot as plt\n",
    "\n",
    "# for network analysis\n",
    "import networkx as nx\n",
    "\n",
    "# for street network analysis\n",
    "import osmnx as ox\n",
    "\n",
    "# for basemaps\n",
    "import contextily as ctx"
   ]
  },
  {
   "cell_type": "code",
   "execution_count": null,
   "id": "298b1775-d66a-44ab-baa7-ff1e623d7e5c",
   "metadata": {},
   "outputs": [],
   "source": []
  },
  {
   "cell_type": "markdown",
   "id": "8cf1ae6d-8dc3-4314-9534-adae9d89ba93",
   "metadata": {},
   "source": [
    "## Part 2: Loading up isochrone mapping with our group data"
   ]
  },
  {
   "cell_type": "code",
   "execution_count": null,
   "id": "58c90f67-52ac-4dd2-b9dc-497e711d4834",
   "metadata": {},
   "outputs": [],
   "source": [
    "# configure the place, network type, trip times, and travel speed\n",
    "address = 'Boyle Heights, Los Angeles, CA, USA'\n",
    "network_type = 'bike'\n",
    "trip_times = [5, 10, 15, 20] #in minutes\n",
    "meters_per_minute = 75 # travel distance per minute"
   ]
  }
 ],
 "metadata": {
  "kernelspec": {
   "display_name": "Python 3 (ipykernel)",
   "language": "python",
   "name": "python3"
  },
  "language_info": {
   "codemirror_mode": {
    "name": "ipython",
    "version": 3
   },
   "file_extension": ".py",
   "mimetype": "text/x-python",
   "name": "python",
   "nbconvert_exporter": "python",
   "pygments_lexer": "ipython3",
   "version": "3.9.6"
  }
 },
 "nbformat": 4,
 "nbformat_minor": 5
}
