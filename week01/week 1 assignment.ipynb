{
 "cells": [
  {
   "cell_type": "code",
   "execution_count": null,
   "id": "0068c3ec-5000-4bbb-ae71-059dea5bd52f",
   "metadata": {},
   "outputs": [],
   "source": [
    "Add an introductory markdown cell with a title (header) and paragraph that describes what you are doing.\n",
    "\n",
    "Import the data, and conduct data exploration, making sure to document your steps and your preliminary findings. At minimum, run the following commands:\n",
    "\n",
    "    .shape\n",
    "    .info\n",
    "    .head()\n",
    "    .plot()\n",
    "    .value_counts()\n",
    "    run a query on the data that filters it in some way\n",
    "\n",
    "For each code cell, add a markdown cell that explains what you are doing.\n",
    "\n",
    "Add markdown cells that describe the output of each operation.\n",
    "\n",
    "Save your notebook."
   ]
  }
 ],
 "metadata": {
  "kernelspec": {
   "display_name": "Python 3 (ipykernel)",
   "language": "python",
   "name": "python3"
  },
  "language_info": {
   "codemirror_mode": {
    "name": "ipython",
    "version": 3
   },
   "file_extension": ".py",
   "mimetype": "text/x-python",
   "name": "python",
   "nbconvert_exporter": "python",
   "pygments_lexer": "ipython3",
   "version": "3.9.6"
  }
 },
 "nbformat": 4,
 "nbformat_minor": 5
}
